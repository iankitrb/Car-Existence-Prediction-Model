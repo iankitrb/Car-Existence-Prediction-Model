{
 "cells": [
  {
   "cell_type": "code",
   "execution_count": 3,
   "id": "70fdb84f-55c5-45cc-b80a-db9b032f56e8",
   "metadata": {},
   "outputs": [],
   "source": [
    "import warnings\n",
    "warnings.filterwarnings('ignore')"
   ]
  },
  {
   "cell_type": "code",
   "execution_count": 5,
   "id": "98066d54-1721-4047-8fd4-d556833b1ea3",
   "metadata": {},
   "outputs": [],
   "source": [
    "import pandas as pd\n",
    "import numpy as np\n",
    "import matplotlib.pyplot as plt\n",
    "import seaborn as sns\n",
    "from sklearn.model_selection import train_test_split\n",
    "from sklearn.ensemble import RandomForestClassifier\n",
    "from sklearn.metrics import accuracy_score, classification_report, confusion_matrix"
   ]
  },
  {
   "cell_type": "code",
   "execution_count": 7,
   "id": "739c7e81-b9aa-485d-bc59-308644789800",
   "metadata": {},
   "outputs": [],
   "source": [
    "df=pd.read_csv(\"GPT4o_Validated_Cars.csv\")"
   ]
  },
  {
   "cell_type": "code",
   "execution_count": 9,
   "id": "3d8f12bf-9088-46a1-9034-565ef09741d8",
   "metadata": {},
   "outputs": [
    {
     "data": {
      "text/html": [
       "<div>\n",
       "<style scoped>\n",
       "    .dataframe tbody tr th:only-of-type {\n",
       "        vertical-align: middle;\n",
       "    }\n",
       "\n",
       "    .dataframe tbody tr th {\n",
       "        vertical-align: top;\n",
       "    }\n",
       "\n",
       "    .dataframe thead th {\n",
       "        text-align: right;\n",
       "    }\n",
       "</style>\n",
       "<table border=\"1\" class=\"dataframe\">\n",
       "  <thead>\n",
       "    <tr style=\"text-align: right;\">\n",
       "      <th></th>\n",
       "      <th>id</th>\n",
       "      <th>exists</th>\n",
       "      <th>comment</th>\n",
       "    </tr>\n",
       "  </thead>\n",
       "  <tbody>\n",
       "    <tr>\n",
       "      <th>0</th>\n",
       "      <td>Porsche- Camry Solara SE- 2005</td>\n",
       "      <td>No</td>\n",
       "      <td>Closest match: Toyota Camry Solara SE 2005</td>\n",
       "    </tr>\n",
       "    <tr>\n",
       "      <th>1</th>\n",
       "      <td>Porsche- Carrera GT Base- 2005</td>\n",
       "      <td>Yes</td>\n",
       "      <td>NaN</td>\n",
       "    </tr>\n",
       "    <tr>\n",
       "      <th>2</th>\n",
       "      <td>Porsche- Cayenne Base- 2005</td>\n",
       "      <td>Yes</td>\n",
       "      <td>NaN</td>\n",
       "    </tr>\n",
       "    <tr>\n",
       "      <th>3</th>\n",
       "      <td>Porsche- Cayenne Diesel- 2005</td>\n",
       "      <td>No</td>\n",
       "      <td>Closest match: Porsche Cayenne Diesel 2009</td>\n",
       "    </tr>\n",
       "    <tr>\n",
       "      <th>4</th>\n",
       "      <td>Porsche- Cayenne S- 2005</td>\n",
       "      <td>Yes</td>\n",
       "      <td>NaN</td>\n",
       "    </tr>\n",
       "    <tr>\n",
       "      <th>...</th>\n",
       "      <td>...</td>\n",
       "      <td>...</td>\n",
       "      <td>...</td>\n",
       "    </tr>\n",
       "    <tr>\n",
       "      <th>28163</th>\n",
       "      <td>Porsche- Boxster Base- 2005</td>\n",
       "      <td>Yes</td>\n",
       "      <td>NaN</td>\n",
       "    </tr>\n",
       "    <tr>\n",
       "      <th>28164</th>\n",
       "      <td>Porsche- Boxster Black Edition- 2005</td>\n",
       "      <td>No</td>\n",
       "      <td>Closest match: Porsche- Boxster S- 2005</td>\n",
       "    </tr>\n",
       "    <tr>\n",
       "      <th>28165</th>\n",
       "      <td>Porsche- Boxster GTS- 2005</td>\n",
       "      <td>No</td>\n",
       "      <td>Closest match: Porsche- Boxster S- 2005</td>\n",
       "    </tr>\n",
       "    <tr>\n",
       "      <th>28166</th>\n",
       "      <td>Porsche- Boxster RS 60 Spyder- 2005</td>\n",
       "      <td>No</td>\n",
       "      <td>Closest match: Porsche- Boxster S- 2005</td>\n",
       "    </tr>\n",
       "    <tr>\n",
       "      <th>28167</th>\n",
       "      <td>Porsche- Boxster S- 2005</td>\n",
       "      <td>Yes</td>\n",
       "      <td>NaN</td>\n",
       "    </tr>\n",
       "  </tbody>\n",
       "</table>\n",
       "<p>28168 rows × 3 columns</p>\n",
       "</div>"
      ],
      "text/plain": [
       "                                         id exists  \\\n",
       "0            Porsche- Camry Solara SE- 2005     No   \n",
       "1            Porsche- Carrera GT Base- 2005    Yes   \n",
       "2               Porsche- Cayenne Base- 2005    Yes   \n",
       "3             Porsche- Cayenne Diesel- 2005     No   \n",
       "4                  Porsche- Cayenne S- 2005    Yes   \n",
       "...                                     ...    ...   \n",
       "28163           Porsche- Boxster Base- 2005    Yes   \n",
       "28164  Porsche- Boxster Black Edition- 2005     No   \n",
       "28165            Porsche- Boxster GTS- 2005     No   \n",
       "28166   Porsche- Boxster RS 60 Spyder- 2005     No   \n",
       "28167              Porsche- Boxster S- 2005    Yes   \n",
       "\n",
       "                                          comment  \n",
       "0      Closest match: Toyota Camry Solara SE 2005  \n",
       "1                                             NaN  \n",
       "2                                             NaN  \n",
       "3      Closest match: Porsche Cayenne Diesel 2009  \n",
       "4                                             NaN  \n",
       "...                                           ...  \n",
       "28163                                         NaN  \n",
       "28164     Closest match: Porsche- Boxster S- 2005  \n",
       "28165     Closest match: Porsche- Boxster S- 2005  \n",
       "28166     Closest match: Porsche- Boxster S- 2005  \n",
       "28167                                         NaN  \n",
       "\n",
       "[28168 rows x 3 columns]"
      ]
     },
     "execution_count": 9,
     "metadata": {},
     "output_type": "execute_result"
    }
   ],
   "source": [
    "df"
   ]
  },
  {
   "cell_type": "code",
   "execution_count": 11,
   "id": "f6f85418-b101-41ce-9673-0aa5e507dd71",
   "metadata": {},
   "outputs": [
    {
     "data": {
      "text/html": [
       "<div>\n",
       "<style scoped>\n",
       "    .dataframe tbody tr th:only-of-type {\n",
       "        vertical-align: middle;\n",
       "    }\n",
       "\n",
       "    .dataframe tbody tr th {\n",
       "        vertical-align: top;\n",
       "    }\n",
       "\n",
       "    .dataframe thead th {\n",
       "        text-align: right;\n",
       "    }\n",
       "</style>\n",
       "<table border=\"1\" class=\"dataframe\">\n",
       "  <thead>\n",
       "    <tr style=\"text-align: right;\">\n",
       "      <th></th>\n",
       "      <th>id</th>\n",
       "      <th>exists</th>\n",
       "      <th>comment</th>\n",
       "    </tr>\n",
       "  </thead>\n",
       "  <tbody>\n",
       "    <tr>\n",
       "      <th>0</th>\n",
       "      <td>Porsche- Camry Solara SE- 2005</td>\n",
       "      <td>No</td>\n",
       "      <td>Closest match: Toyota Camry Solara SE 2005</td>\n",
       "    </tr>\n",
       "    <tr>\n",
       "      <th>1</th>\n",
       "      <td>Porsche- Carrera GT Base- 2005</td>\n",
       "      <td>Yes</td>\n",
       "      <td>NaN</td>\n",
       "    </tr>\n",
       "    <tr>\n",
       "      <th>2</th>\n",
       "      <td>Porsche- Cayenne Base- 2005</td>\n",
       "      <td>Yes</td>\n",
       "      <td>NaN</td>\n",
       "    </tr>\n",
       "    <tr>\n",
       "      <th>3</th>\n",
       "      <td>Porsche- Cayenne Diesel- 2005</td>\n",
       "      <td>No</td>\n",
       "      <td>Closest match: Porsche Cayenne Diesel 2009</td>\n",
       "    </tr>\n",
       "    <tr>\n",
       "      <th>4</th>\n",
       "      <td>Porsche- Cayenne S- 2005</td>\n",
       "      <td>Yes</td>\n",
       "      <td>NaN</td>\n",
       "    </tr>\n",
       "    <tr>\n",
       "      <th>...</th>\n",
       "      <td>...</td>\n",
       "      <td>...</td>\n",
       "      <td>...</td>\n",
       "    </tr>\n",
       "    <tr>\n",
       "      <th>28163</th>\n",
       "      <td>Porsche- Boxster Base- 2005</td>\n",
       "      <td>Yes</td>\n",
       "      <td>NaN</td>\n",
       "    </tr>\n",
       "    <tr>\n",
       "      <th>28164</th>\n",
       "      <td>Porsche- Boxster Black Edition- 2005</td>\n",
       "      <td>No</td>\n",
       "      <td>Closest match: Porsche- Boxster S- 2005</td>\n",
       "    </tr>\n",
       "    <tr>\n",
       "      <th>28165</th>\n",
       "      <td>Porsche- Boxster GTS- 2005</td>\n",
       "      <td>No</td>\n",
       "      <td>Closest match: Porsche- Boxster S- 2005</td>\n",
       "    </tr>\n",
       "    <tr>\n",
       "      <th>28166</th>\n",
       "      <td>Porsche- Boxster RS 60 Spyder- 2005</td>\n",
       "      <td>No</td>\n",
       "      <td>Closest match: Porsche- Boxster S- 2005</td>\n",
       "    </tr>\n",
       "    <tr>\n",
       "      <th>28167</th>\n",
       "      <td>Porsche- Boxster S- 2005</td>\n",
       "      <td>Yes</td>\n",
       "      <td>NaN</td>\n",
       "    </tr>\n",
       "  </tbody>\n",
       "</table>\n",
       "<p>28168 rows × 3 columns</p>\n",
       "</div>"
      ],
      "text/plain": [
       "                                         id exists  \\\n",
       "0            Porsche- Camry Solara SE- 2005     No   \n",
       "1            Porsche- Carrera GT Base- 2005    Yes   \n",
       "2               Porsche- Cayenne Base- 2005    Yes   \n",
       "3             Porsche- Cayenne Diesel- 2005     No   \n",
       "4                  Porsche- Cayenne S- 2005    Yes   \n",
       "...                                     ...    ...   \n",
       "28163           Porsche- Boxster Base- 2005    Yes   \n",
       "28164  Porsche- Boxster Black Edition- 2005     No   \n",
       "28165            Porsche- Boxster GTS- 2005     No   \n",
       "28166   Porsche- Boxster RS 60 Spyder- 2005     No   \n",
       "28167              Porsche- Boxster S- 2005    Yes   \n",
       "\n",
       "                                          comment  \n",
       "0      Closest match: Toyota Camry Solara SE 2005  \n",
       "1                                             NaN  \n",
       "2                                             NaN  \n",
       "3      Closest match: Porsche Cayenne Diesel 2009  \n",
       "4                                             NaN  \n",
       "...                                           ...  \n",
       "28163                                         NaN  \n",
       "28164     Closest match: Porsche- Boxster S- 2005  \n",
       "28165     Closest match: Porsche- Boxster S- 2005  \n",
       "28166     Closest match: Porsche- Boxster S- 2005  \n",
       "28167                                         NaN  \n",
       "\n",
       "[28168 rows x 3 columns]"
      ]
     },
     "execution_count": 11,
     "metadata": {},
     "output_type": "execute_result"
    }
   ],
   "source": [
    "df.dropna(subset='exists')"
   ]
  },
  {
   "cell_type": "code",
   "execution_count": 13,
   "id": "ecbce871-ff2c-4575-b2f9-c8b6344f0149",
   "metadata": {},
   "outputs": [
    {
     "data": {
      "text/plain": [
       "id             0\n",
       "exists         0\n",
       "comment    15260\n",
       "dtype: int64"
      ]
     },
     "execution_count": 13,
     "metadata": {},
     "output_type": "execute_result"
    }
   ],
   "source": [
    "df.isnull().sum()"
   ]
  },
  {
   "cell_type": "code",
   "execution_count": 15,
   "id": "691fec43-cd46-46ff-8573-27ad97b91d30",
   "metadata": {},
   "outputs": [],
   "source": [
    "df['exists']=df['exists'].apply(lambda x: 1 if x.lower() == 'yes' else 0)"
   ]
  },
  {
   "cell_type": "markdown",
   "id": "c4e63ebb-fb87-445f-8ce4-7cdf689a81e6",
   "metadata": {},
   "source": [
    "### Exploratory data analysis"
   ]
  },
  {
   "cell_type": "code",
   "execution_count": 39,
   "id": "d40072a5-8599-4ca7-9df4-32cdaef8ecb9",
   "metadata": {},
   "outputs": [
    {
     "data": {
      "image/png": "[encoded data removed]",
      "text/plain": [
       "<Figure size 800x600 with 1 Axes>"
      ]
     },
     "metadata": {},
     "output_type": "display_data"
    }
   ],
   "source": [
    "#plot the distribution of 'exists'\n",
    "plt.figure(figsize=(8,6))\n",
    "sns.countplot(x='exists', data=df)\n",
    "plt.title('Distribution of Car Existence')\n",
    "plt.xlabel('Exists')\n",
    "plt.ylabel('Count')\n",
    "plt.show()"
   ]
  },
  {
   "cell_type": "markdown",
   "id": "3a2bef77-cdbe-4a28-a0ee-170d8f6e642d",
   "metadata": {},
   "source": [
    "### Text Analysis on comments"
   ]
  },
  {
   "cell_type": "code",
   "execution_count": 54,
   "id": "77568154-fda7-48bc-9f51-4b9b0e876724",
   "metadata": {},
   "outputs": [
    {
     "data": {
      "image/png": "[encoded data removed]",
      "text/plain": [
       "<Figure size 1000x600 with 1 Axes>"
      ]
     },
     "metadata": {},
     "output_type": "display_data"
    }
   ],
   "source": [
    "#Basic text analysis on 'comme t' column\n",
    "df['comment_length']=df['comment'].apply(lambda x: len(str(x)))\n",
    "plt.figure(figsize=(10,6))\n",
    "sns.histplot(df['comment_length'], bins=30, kde=True)\n",
    "plt.title('Distribution of comment lenghts')\n",
    "plt.xlabel('Comment lenght')\n",
    "plt.ylabel('Frequency')\n",
    "plt.show()"
   ]
  },
  {
   "cell_type": "markdown",
   "id": "8be4b8e1-dced-425c-9edc-6a607673dc51",
   "metadata": {},
   "source": [
    "### selecting only numeric columns for correlational analysis"
   ]
  },
  {
   "cell_type": "code",
   "execution_count": 63,
   "id": "c7e50594-5f72-428d-b793-7b5f0f2f755c",
   "metadata": {},
   "outputs": [],
   "source": [
    "numeric_df=df.select_dtypes(include=np.number)"
   ]
  },
  {
   "cell_type": "code",
   "execution_count": 65,
   "id": "6a69f466-9605-40a5-ba11-c5114b640a42",
   "metadata": {},
   "outputs": [
    {
     "data": {
      "image/png": "[encoded data removed]",
      "text/plain": [
       "<Figure size 1000x800 with 2 Axes>"
      ]
     },
     "metadata": {},
     "output_type": "display_data"
    }
   ],
   "source": [
    "plt.figure(figsize=(10,8))\n",
    "sns.heatmap(numeric_df.corr(), annot=True, cmap='coolwarm', linewidths=0.5)\n",
    "plt.title('Correlation Heatmap')\n",
    "plt.show()"
   ]
  },
  {
   "cell_type": "code",
   "execution_count": 67,
   "id": "17a7061f-0694-4764-b428-0f64064f3c23",
   "metadata": {},
   "outputs": [],
   "source": [
    "#Preparing data for modeling\n",
    "X=df[['comment_length']]\n",
    "y=df['exists']\n",
    "\n",
    "#Spliting the data into training data and test data\n",
    "X_train, X_test, y_train, y_test = train_test_split(X,y, test_size=0.3, random_state=42) \n",
    "\n",
    "#initilize and treain the model\n",
    "model= RandomForestClassifier(random_state=42)\n",
    "model.fit(X_train, y_train)\n",
    "\n",
    "# Make Predictions\n",
    "y_pred=model.predict(X_test)\n",
    "\n",
    "# Evaluate the model\n",
    "accuracy = accuracy_score(y_test, y_pred)\n",
    "classification_rep = classification_report(y_test,y_pred)\n",
    "conf_matrix= confusion_matrix(y_test, y_pred)"
   ]
  },
  {
   "cell_type": "code",
   "execution_count": 69,
   "id": "229c3f9b-bee4-408a-b539-f669e232128d",
   "metadata": {},
   "outputs": [
    {
     "data": {
      "text/plain": [
       "0.9854455094071708"
      ]
     },
     "execution_count": 69,
     "metadata": {},
     "output_type": "execute_result"
    }
   ],
   "source": [
    "accuracy"
   ]
  },
  {
   "cell_type": "code",
   "execution_count": 71,
   "id": "2be45a31-cced-457b-aedb-a9780e817a4d",
   "metadata": {},
   "outputs": [
    {
     "data": {
      "text/plain": [
       "'              precision    recall  f1-score   support\\n\\n           0       0.97      1.00      0.98      3610\\n           1       1.00      0.98      0.99      4841\\n\\n    accuracy                           0.99      8451\\n   macro avg       0.98      0.99      0.99      8451\\nweighted avg       0.99      0.99      0.99      8451\\n'"
      ]
     },
     "execution_count": 71,
     "metadata": {},
     "output_type": "execute_result"
    }
   ],
   "source": [
    "classification_rep"
   ]
  },
  {
   "cell_type": "code",
   "execution_count": 73,
   "id": "7ebb0279-afca-49cb-b65c-c7ae20e9499f",
   "metadata": {},
   "outputs": [
    {
     "data": {
      "text/plain": [
       "array([[3602,    8],\n",
       "       [ 115, 4726]], dtype=int64)"
      ]
     },
     "execution_count": 73,
     "metadata": {},
     "output_type": "execute_result"
    }
   ],
   "source": [
    "conf_matrix"
   ]
  },
  {
   "cell_type": "code",
   "execution_count": null,
   "id": "102d72f3-2884-4a23-9549-1ef35ee9759b",
   "metadata": {},
   "outputs": [],
   "source": []
  }
 ],
 "metadata": {
  "kernelspec": {
   "display_name": "Python 3 (ipykernel)",
   "language": "python",
   "name": "python3"
  },
  "language_info": {
   "codemirror_mode": {
    "name": "ipython",
    "version": 3
   },
   "file_extension": ".py",
   "mimetype": "text/x-python",
   "name": "python",
   "nbconvert_exporter": "python",
   "pygments_lexer": "ipython3",
   "version": "3.12.4"
  }
 },
 "nbformat": 4,
 "nbformat_minor": 5
}
